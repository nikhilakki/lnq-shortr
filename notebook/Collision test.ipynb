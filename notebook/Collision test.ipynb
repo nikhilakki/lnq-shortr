{
 "cells": [
  {
   "cell_type": "code",
   "execution_count": 12,
   "id": "37ec26be",
   "metadata": {},
   "outputs": [],
   "source": [
    "from time import time\n",
    "from nanoid import generate\n"
   ]
  },
  {
   "cell_type": "code",
   "execution_count": 27,
   "id": "af1de2b0",
   "metadata": {},
   "outputs": [
    {
     "name": "stdout",
     "output_type": "stream",
     "text": [
      "Time taken -  21.83\n"
     ]
    }
   ],
   "source": [
    "id_list = []\n",
    "t1 = time()\n",
    "for i in range(2**22):\n",
    "\n",
    "    id_list.append(generate(size=7))\n",
    "t2 = time()\n",
    "tt = t2-t1\n",
    "print(\"Time taken - {: .2f}\".format(tt))"
   ]
  },
  {
   "cell_type": "code",
   "execution_count": 30,
   "id": "8a0d72a0",
   "metadata": {},
   "outputs": [],
   "source": [
    "og_len = len(id_list)\n",
    "sg_len = len(list(set(id_list)))"
   ]
  },
  {
   "cell_type": "code",
   "execution_count": 38,
   "id": "ee9bc3fe",
   "metadata": {},
   "outputs": [
    {
     "name": "stdout",
     "output_type": "stream",
     "text": [
      "collision_rate=7.152557373046875e-07\n"
     ]
    }
   ],
   "source": [
    "collision_rate = 1 - (sg_len/og_len)\n",
    "print(f\"{collision_rate=}\")"
   ]
  },
  {
   "cell_type": "code",
   "execution_count": null,
   "id": "e9269304",
   "metadata": {},
   "outputs": [],
   "source": []
  }
 ],
 "metadata": {
  "kernelspec": {
   "display_name": "Python 3 (ipykernel)",
   "language": "python",
   "name": "python3"
  },
  "language_info": {
   "codemirror_mode": {
    "name": "ipython",
    "version": 3
   },
   "file_extension": ".py",
   "mimetype": "text/x-python",
   "name": "python",
   "nbconvert_exporter": "python",
   "pygments_lexer": "ipython3",
   "version": "3.9.13"
  }
 },
 "nbformat": 4,
 "nbformat_minor": 5
}
